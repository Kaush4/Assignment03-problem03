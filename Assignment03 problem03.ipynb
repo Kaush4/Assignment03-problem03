{
 "cells": [
  {
   "cell_type": "code",
   "execution_count": 91,
   "id": "2c1ace5d",
   "metadata": {},
   "outputs": [
    {
     "name": "stdout",
     "output_type": "stream",
     "text": [
      "Enter the string: The quick Brow Fox\n",
      "Sample String is:  The quick Brow Fox\n",
      "No. of Upper case characters is:  3\n",
      "No. of Lower case characters is:  12\n"
     ]
    }
   ],
   "source": [
    "# Write a Python function that accepts a string and calculate the number of upper case letters and lower case letters.\n",
    "\n",
    "# Sample String : 'The quick Brow Fox'\n",
    "# Expected Output :\n",
    "# No. of Upper case characters : 3\n",
    "# No. of Lower case Characters : 12\n",
    "\n",
    "# Answer\n",
    "\n",
    "def lists(string):\n",
    "    a=0\n",
    "    b=0\n",
    "    for kk in string:\n",
    "        if kk.isupper():\n",
    "            a+= 1\n",
    "        elif kk.islower():\n",
    "            b+= 1\n",
    "    print(\"Sample String is: \",n)\n",
    "    print(\"No. of Upper case characters is: \",a)\n",
    "    print(\"No. of Lower case characters is: \",b)\n",
    "n= input(\"Enter the string: \")\n",
    "lists(n)"
   ]
  }
 ],
 "metadata": {
  "kernelspec": {
   "display_name": "Python 3 (ipykernel)",
   "language": "python",
   "name": "python3"
  },
  "language_info": {
   "codemirror_mode": {
    "name": "ipython",
    "version": 3
   },
   "file_extension": ".py",
   "mimetype": "text/x-python",
   "name": "python",
   "nbconvert_exporter": "python",
   "pygments_lexer": "ipython3",
   "version": "3.9.12"
  }
 },
 "nbformat": 4,
 "nbformat_minor": 5
}
